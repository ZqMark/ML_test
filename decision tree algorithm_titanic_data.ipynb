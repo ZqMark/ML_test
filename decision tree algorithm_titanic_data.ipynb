#导入数据
import pandas as pd
import numpy as np
data=pd.read_csv('E:/Python course/.idea/titanic-kaggle/titanic_train.csv') #训练数据集
X_test=pd.read_csv('E:/Python course/.idea/titanic-kaggle/Titanic_test.csv')#测试数据集
# print(data.describe())
#对数据集预处理
title1=['Sex','Name','Embarked']
title=['Pclass','Sex','Age','SibSp','Parch','Fare','Embarked']
X_test=X_test[title]

X_test['Sex'].replace(['male','female'],[0,1],inplace=True)
X_test['Embarked'].replace(['S','C','Q'],[0,1,2],inplace=True)
X_test.dropna(axis=0, how='any', inplace=True)
# print(X_test.shape)
# print(X_test)
# df.dropna(axis=0, how='any', inplace=True)
print(X_test.isnull().any())
# mydf.dropna(subset=['列名'],inplace=True)
# train=data[title]
# train
data['Sex'].replace(['male','female'],[0,1],inplace=True)
# data['Sex']
# print(data.isnull().any())
data.drop(columns=['Cabin','Ticket','Name'],inplace =True)
data.isnull().any()
data['Embarked'].replace(['S','C','Q'],[0,1,2],inplace=True)
# a=data['Embarked']
# a[2]
# print(data['Embarked'].values[100])
# data['Embarked'].shape[0]
#统计Embarked列空值个数
pd.isnull(data['Embarked'].index[0])
i=0
n=0
while i < data['Embarked'].shape[0]:
    if (pd.isnull(data['Embarked'].values[i])):
        n=n+1
    i=i+1
print('Embarked列空值个数：{}'.format(n))
#统计Embarked列0,1,2个值个数
print(data['Embarked'].value_counts())
#用出现次数最多的值对空值填充
data['Embarked']=data['Embarked'].fillna(0)
data['Embarked'].isnull().any()
#年龄空值用中位数填
data['Age']=data['Age'].fillna(data['Age'].median())
print(data.describe())
#导入做决策树图相应的包
from sklearn import tree
from sklearn.tree import DecisionTreeClassifier
import graphviz
x=data.iloc[:,2:]
print(x.describe())
y=data.iloc[:,1]
clf=DecisionTreeClassifier()
clf=clf.fit(x,y)
score = clf.score(x, y) #返回预测的准确度
print("模型预测精确度:{}".format(score))

tree.export_graphviz(clf)
dot_data = tree.export_graphviz(clf,out_file=None)
graphviz.Source(dot_data)
#给图形增加标签和颜色
dot_data = tree.export_graphviz(clf,out_file=None,
                               feature_names=title,
                               class_names =['获救','没获救'],
                               filled =True,rounded =True,
                               special_characters=True)
graphviz.Source(dot_data)
#特征重要性
clf.feature_importances_
[*zip(title,clf.feature_importances_)]
#对测试集预测得出预测结果
y_dtc_predict = clf.predict(X_test)
y_dtc_predict
