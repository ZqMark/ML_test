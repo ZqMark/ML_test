#导入包
import pandas as pd
from sklearn.naive_bayes import GaussianNB
from sklearn.metrics import accuracy_score
from sklearn.model_selection import train_test_split 

#导入数据集
from sklearn import datasets
iris = datasets.load_iris()

#切分数据集
xtrain,xtest,ytrain,ytest = train_test_split(iris.data,
                                            iris.target,
                                            test_size=0.3,
                                            random_state=12)
#建模
clf = GaussianNB()
clf.fit(xtrain,ytrain)
#在测试集上执行预测，proda导出样本属于某类的概率
clf.predict(xtest)
print(clf.predict_proba(xtest))
#测试准确率
print(accuracy_score(ytest,clf.predict(xtest)))

#朴素贝叶斯之燕尾花数据实验
#导入数据集
import numpy as np
import pandas as pd
import random

dataset = pd.read_csv('D:/学习资源/菊安酱机器学习实战/201901061037t0xktohzzh/iris.txt',header =None)
dataset.head()

#切分训练集和测试集
import random

def randsplit(dataset,rate):
    l = list(dataset.index)  #提取索引
    random.shuffle(l)        #将索引打乱
    dataset.index =l
    n = dataset.shape[0]
    m =int(n*rate)          #训练集数目
    train = dataset.loc[range(m),:]  #提取前m个记录作为训练集
    test  = dataset.loc[range(m,n),:]#剩下的作为测试集
    dataset.index = range(dataset.shape[0])#更新原数据集的索引
    test.index = range(test.shape[0])#更新测试集的索引
    return train,test
    
 train,test = randsplit(dataset,0.8)

#构建高斯朴素贝叶斯分类器
def gnb_classify(train,test):
    labels = train.iloc[:,-1].value_counts().index
    mean = []
    std = []
    result = []
    for i in labels:
        item = train.loc[train.iloc[:,-1]==i,:]
        m =item.iloc[:,:-1].mean()
        s =np.sum((item.iloc[:,:-1]-m)**2)/(item.shape[0])
        mean.append(m)
        std.append(s)
    means = pd.DataFrame(mean,index =labels)
    stds = pd.DataFrame(std,index=labels)
    for j in range(test.shape[0]):
        iset = test.iloc[j,:-1].tolist()
        iprob = np.exp(-1*(iset-means)**2/(stds*2))/(np.sqrt(2*np.pi*stds))
        prob =1
        for k in range(test.shape[1]-1):
            prob*=iprob[k]
            cla = prob.index[np.argmax(prob.values)]
        result.append(cla)
    test['predict']=result
    acc = (test.iloc[:,-1]==test.iloc[:,-2]).mean()
    print(f'模型预测准确率为{acc}') 
    return test

#测试模型预测效果
gnb_classify(train,test)

#20次运行结果
for i in range(20):
    train,test = randsplit(dataset,0.8)
    gnb_classify(train,test)
