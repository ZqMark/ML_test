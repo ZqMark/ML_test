"""
KNN算法实现范例
(hailun_dating)
"""
#数据准备
import pandas as pd
datingTest=pd.read_table('D:/学习资源/菊安酱机器学习实战/数据集/dating.txt',header=None)
print(datingTest.head())
print(datingTest.shape)
print(datingTest.info())

#分析数据（使用matplotlib创建散点图）
import matplotlib as mpl
import matplotlib.pyplot as plt

#用颜色区分标签
Colors = []
for i in range(datingTest.shape[0]):
    m = datingTest.iloc[i,-1]
    if m == 1:
        Colors.append('black')
    if m == 2:
        Colors.append('orange')
    if m == 3:
        Colors.append('red')
#绘制两两特征之间的散点图
plt.rcParams['font.sans-serif']=['Simhei'] #设置字体
pl=plt.figure(figsize=(12,8))
fig1=pl.add_subplot(221)
plt.scatter(datingTest.iloc[:,1],datingTest.iloc[:,2],marker='.',c=Colors)
plt.xlabel('玩游戏视频所占时间比')
plt.ylabel('每周消费冰淇淋公升数')

fig2 =pl.add_subplot(222)
plt.scatter(datingTest.iloc[:,0],datingTest.iloc[:,1],marker='.',c=Colors)
plt.xlabel('每年飞行常客里程')
plt.ylabel('玩游戏视屏所占时间比')

fig3=pl.add_subplot(223)
plt.scatter(datingTest.iloc[:,0],datingTest.iloc[:,2],marker='.',c=Colors)
plt.xlabel('每年飞行常客里程')
plt.ylabel('每周消费冰淇淋公升数')
plt.show()

#数据归一化
"""
函数功能：归一化
参数说明:
    dataSet:原始数据集
返回:0-1标准化之后的数据集
"""
def minmax(dataSet):
    minDf = dataSet.min()
    maxDf = dataSet.max()
    norSet = (dataSet - minDf)/(maxDf - minDf)
    return norSet
datingT = pd.concat([minmax(datingTest.iloc[:,:3]),datingTest.iloc[:,3]],axis=1)
print(datingT.head())

"""
函数功能:切分训练集和测试集
"""
def ranSplit(dataSet,rate=0.9):
    n=dataSet.shape[0]
    m=int(n*rate)
    train=dataSet.iloc[:m,:]
    test=dataSet.iloc[m:,:]
    test.index=range(test.shape[0])
    return train,test
train,test = ranSplit(datingT)
print(train)
print(test)

"""
函数功能:k-近邻算法分类器
参数说明:
    train:训练集
    test:测试集
    k:k-近邻参数，即选择距离最小的k个点
返回:预测好分类的测试集
"""
def datingClass(train,test,k):
    n = train.shape[1]-1
    m = test.shape[0]
    result =[]
    for i in range(m):
        dist = list((((train.iloc[:,:n]-test.iloc[i,:n])**2).sum(1))**5)
        dist_1 = pd.DataFrame({'dist':dist,'labels':(train.iloc[:,n])})
        dr = dist_1.sort_values(by='dist')[:k]
        re = dr.loc[:,'labels'].value_counts()
        result.append(re.index[0])
    result = pd.Series(result)
    test['predict']=result
    acc = (test.iloc[:,-1]==test.iloc[:,-2]).mean()
    print(f'模型预测准确率为{acc}')
    print(test)
datingClass(train,test,5)
