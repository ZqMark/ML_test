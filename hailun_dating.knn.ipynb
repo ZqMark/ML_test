mport pandas as pd
data=pd.read_table("D:/学习资源/数据集/dating.txt",header=None)
print(data.head()) #打印前5行
print(data.describe()) #数据集描述
#划分训练集和测试集
traindata=data.iloc[:500,:3]
# print(traindata.describe())
testdata=data.iloc[500:,:3]
# print(testdata.describe())
#验证集
testlabel=data.iloc[500:,3]
#循环遍历测试集集每行
i=0
k=10   #设置k值
result=[]
while i<500:
    test=testdata.iloc[i,:3]  #对测试集切片，取i行，前三列
    dist_1=(((traindata-test)**2).sum(1))**0.5  #计算测试集与训练集距离
    dist=pd.DataFrame({'dist':dist_1,'喜爱程度':data.iloc[:500,3]}) #引入新标签，建立数据表
    paixu=dist.sort_values(by="dist").iloc[:k] #按距离排序,取前k行数据
    re=paixu.loc[:,'喜爱程度'].value_counts() #计数
    #print(re)
    re1=re.sort_values(axis=0,ascending=False) #标签数目降序排序
    #print(re1)
    result.append(re1.index[0]) 
    i=i+1
print()
# print(result)
testlabel=testlabel.reset_index(drop=True) #重新设置索引值从0开始
print(testlabel)
result=pd.Series(result) #预测结果设置为一维数组型
r=(result[result==testlabel]).value_counts()
print(r)
total=sum(r[:]) #准确预测总数
# print(total)
accuracy=total/len(testdata)
print(accuracy) #准确率
