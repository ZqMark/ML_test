import numpy as np
import pandas as pd
import random
#使用朴素贝叶斯进行文档分类
"""
创建实验数据集
"""
def loadDataSet():
    dataSet=[['my', 'dog', 'has', 'flea', 'problems', 'help', 'please'],
             ['maybe', 'not', 'take', 'him', 'to', 'dog', 'park', 'stupid'],
             ['my', 'dalmation', 'is', 'so', 'cute', 'I', 'love', 'him'],
             ['stop', 'posting', 'stupid', 'worthless', 'garbage'],
             ['mr', 'licks', 'ate', 'my', 'steak', 'how', 'to', 'stop', 'him'],
             ['quit', 'buying', 'worthless', 'dog', 'food', 'stupid']]
    classVec = [0,1,0,1,0,1] #类别标签向量，1代表侮辱性词汇，0代表非侮辱性词汇
    return dataSet,classVec
dataSet,classVec=loadDataSet()
#生成词汇表
"""
函数功能:将切分的样本词条整理成词汇表（不重复）

"""
def createVocabList(dataSet):
    
    vocabSet = set()     #创建一个空的集合
    for doc in dataSet:   #遍历dataSet中的每一条言论
        print(doc)
        vocabSet = vocabSet | set(doc)  #取并集
        vocabList = list(vocabSet)
    return vocabList
vocabList = createVocabList(dataSet)
vocabList
# print(vocabList.index('ate'))
#生成词向量
"""
根据vocabList词汇表，将inputSet向量化，向量的每个元素为1或0
"""
def setOfWords2Vec(vocabList, inputSet):
    returnVec = [0] * len(vocabList) #创建一个其中所含元素都为0的向量
    for word in inputSet:   #遍历每个词条
        print (word)
        if word in vocabList:
            returnVec[vocabList.index(word)] = 1   #如果词条存在于词汇表中，则变为1
        else:
            print(f" {word} is not in my Vocabulary!" )
    return returnVec
    #所有词条向量列表
"""
函数功能：生成训练集向量列表

"""
def get_trainMat(dataSet):
    trainMat = []   #初始化向量列表
    vocabList = createVocabList(dataSet) #生成词汇表
    for inputSet in dataSet:
#         print(inputSet)
        returnVec=setOfWords2Vec(vocabList, inputSet)
        trainMat.append(returnVec)
    return trainMat
trainMat = get_trainMat(dataSet)
# print(trainMat)
# print(type(trainMat))
# print(len(trainMat))
# print(len(trainMat[0]))

#朴素贝叶斯分类器训练函数
"""
函数功能：朴素贝叶斯分类器训练函数
参数说明：
trainMat：训练文档矩阵
classVec：训练类别标签向量
返回：
p0V：非侮辱类的条件概率数组
p1V：侮辱类的条件概率数组
pAb：文档属于侮辱类的概率
"""
def trainNB(trainMat,classVec):
    n = len(trainMat)    #计算训练的文档数目
    m = len(trainMat[0]) 
    pAb = sum(classVec)/n
    p0Num = np.zeros(m)   #词条出现次数初始化为0
    p1Num = np.zeros(m)
    p0Denom = 0          #分母初始化为0
    p1Denom = 0
    for i in range(n):
        if classVec[i] == 1:
            p1Num += trainMat[i]
            p1Denom += sum(trainMat[i])
        else:                        #统计属于非侮辱类的条件概率所需的数据
            p0Num += trainMat[i]
            p0Denom += sum(trainMat[i])
    p1V = p1Num/p1Denom
       
    p0V = p0Num/p0Denom
    return p0V,p1V,pAb  #返回属于非侮辱类,侮辱类和文档属于侮辱类的概率
#测试朴素贝叶斯分类器
from functools import reduce
"""
函数功能：朴素贝叶斯分类器分类函数
参数说明：
vec2Classify：待分类的词条数组
p0V：非侮辱类的条件概率数组
p1V：侮辱类的条件概率数组
pAb：文档属于侮辱类的概率
返回：
0：属于非侮辱类
1：属于侮辱类
"""
def classifyNB(vec2Classify, p0V, p1V, pAb):
    p1 = reduce(lambda x,y:x*y, vec2Classify * p1V) * pAb #对应元素相乘
    #对应元素相乘
    p0 = reduce(lambda x,y:x*y, vec2Classify * p0V) * (1 - pAb)
    print('p0:',p0)
    print('p1:',p1)
    if p1 > p0:
        return 1
    else:
        return 0

"""
函数功能：朴素贝叶斯测试函数
参数说明：
testVec：测试样本
返回：测试样本的类别
"""
def testingNB(testVec):
    dataSet,classVec = loadDataSet()  #创建实验样本
    vocabList = createVocabList(dataSet)#创建词汇表
    trainMat= get_trainMat(dataSet)#将实验样本向量化
    p0V,p1V,pAb = trainNB(trainMat,classVec)#训练朴素贝叶斯分类器
    thisone = setOfWords2Vec(vocabList, testVec)#测试样本向量化
    if classifyNB(thisone,p0V,p1V,pAb):
        print(testVec,'属于侮辱类')
    else:
        print(testVec,'属于非侮辱类')
    
def trainNB(trainMat,classVec):
    n = len(trainMat) #计算训练的文档数目
    m = len(trainMat[0])#计算每篇文档的词条数
    pAb = sum(classVec)/n#文档属于侮辱类的概率
    p0Num = np.ones(m)#词条出现数初始化为1
    p1Num = np.ones(m)#词条出现数初始化为1
    p0Denom = 2#分母初始化为2
    p1Denom = 2#分母初始化为2
    for i in range(n):
        if classVec[i] == 1:
            p1Num += trainMat[i]
            p1Denom += sum(trainMat[i])
        else:
            p0Num += trainMat[i]
            p0Denom += sum(trainMat[i])
    p1V = np.log(p1Num/p1Denom)
        #统计属于非侮辱类的条件概率所需的数据
    p0V = np.log(p0Num/p0Denom)
    return p0V,p1V,pAb

 #测试样本1
testVec1 = ['love', 'my', 'dalmation']
testingNB(testVec1)
#测试样本2
testVec2 = ['stupid', 'garbage']
testingNB(testVec2)





  
